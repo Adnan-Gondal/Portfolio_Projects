{
 "cells": [
  {
   "cell_type": "markdown",
   "id": "a6257b19",
   "metadata": {},
   "source": [
    "# Code Snippets"
   ]
  },
  {
   "cell_type": "code",
   "execution_count": null,
   "id": "1586eb8c",
   "metadata": {},
   "outputs": [],
   "source": [
    "from bs4 import BeautifulSoup\n",
    "import requests"
   ]
  },
  {
   "cell_type": "code",
   "execution_count": null,
   "id": "412670ae",
   "metadata": {},
   "outputs": [],
   "source": [
    "url = 'https://coinmarketcap.com/currencies/bitcoin/'\n",
    "page = requests.get(url)\n",
    "soup = BeautifulSoup(page.text, 'html')"
   ]
  },
  {
   "cell_type": "code",
   "execution_count": null,
   "id": "cc9cf8b8",
   "metadata": {},
   "outputs": [],
   "source": [
    "soup"
   ]
  },
  {
   "cell_type": "code",
   "execution_count": null,
   "id": "1c3611ba",
   "metadata": {},
   "outputs": [],
   "source": [
    "soup.find('span', class_ = \"sc-65e7f566-0 lsTl\").contents[0].strip()"
   ]
  },
  {
   "cell_type": "code",
   "execution_count": null,
   "id": "f0eec445",
   "metadata": {},
   "outputs": [],
   "source": [
    "crypto_name = soup.find('span', class_ = \"sc-65e7f566-0 lsTl\").contents[0].strip()\n",
    "crypto_name"
   ]
  },
  {
   "cell_type": "code",
   "execution_count": null,
   "id": "5515dc44",
   "metadata": {},
   "outputs": [],
   "source": [
    "soup.find('span', class_ = \"sc-65e7f566-0 WXGwg base-text\").text"
   ]
  },
  {
   "cell_type": "code",
   "execution_count": null,
   "id": "e2669072",
   "metadata": {},
   "outputs": [],
   "source": [
    "crypto_price = soup.find('span', class_ = \"sc-65e7f566-0 WXGwg base-text\").text\n",
    "crypto_price"
   ]
  },
  {
   "cell_type": "code",
   "execution_count": null,
   "id": "b7877046",
   "metadata": {},
   "outputs": [],
   "source": [
    "formatted_price = crypto_price.replace('$','')\n",
    "formatted_price"
   ]
  },
  {
   "cell_type": "code",
   "execution_count": null,
   "id": "31ed105f",
   "metadata": {},
   "outputs": [],
   "source": [
    "import pandas as pd\n",
    "from datetime import datetime"
   ]
  },
  {
   "cell_type": "code",
   "execution_count": null,
   "id": "2c6f2094",
   "metadata": {},
   "outputs": [],
   "source": [
    "current_time = datetime.now()\n",
    "dict = {'Crypto Name': crypto_name,\n",
    "        'Price': formatted_price,\n",
    "        'Timestamp': current_time}"
   ]
  },
  {
   "cell_type": "code",
   "execution_count": null,
   "id": "0b3d0cde",
   "metadata": {},
   "outputs": [],
   "source": [
    "df = pd.DataFrame(dict, index = [0])"
   ]
  },
  {
   "cell_type": "code",
   "execution_count": null,
   "id": "1fddf2b0",
   "metadata": {},
   "outputs": [],
   "source": [
    "df.to_csv(r'Insert Your File Path Here\\crypto scrapper.csv')"
   ]
  },
  {
   "cell_type": "code",
   "execution_count": null,
   "id": "13f1e8dc",
   "metadata": {},
   "outputs": [],
   "source": [
    "import os"
   ]
  },
  {
   "cell_type": "code",
   "execution_count": null,
   "id": "8f2dbd66",
   "metadata": {},
   "outputs": [],
   "source": [
    "if os.path.exists(r'Insert Your File Path Here\\crypto scrapper.csv'):\n",
    "    df.to_csv(r'Insert Your File Path Here\\crypto scrapper.csv', mode = 'a',\n",
    "              header = False, index = False)\n",
    "else:\n",
    "    df.to_csv(r'Insert Your File Path Here\\crypto scrapper.csv')"
   ]
  },
  {
   "cell_type": "markdown",
   "id": "ec1305f7",
   "metadata": {},
   "source": [
    "# Combining Code from all Cells"
   ]
  },
  {
   "cell_type": "code",
   "execution_count": null,
   "id": "4040a5f5",
   "metadata": {},
   "outputs": [],
   "source": [
    "from bs4 import BeautifulSoup\n",
    "import requests\n",
    "import pandas as pd\n",
    "from datetime import datetime\n",
    "import os\n",
    "import time"
   ]
  },
  {
   "cell_type": "code",
   "execution_count": null,
   "id": "2ee63c07",
   "metadata": {},
   "outputs": [],
   "source": [
    "def crypto_web_scrapper():\n",
    "    # Define the URL for Bitcoin data from CoinMarketCap\n",
    "    url = 'https://coinmarketcap.com/currencies/bitcoin/'\n",
    "    \n",
    "    # Send a request to the website to fetch the page content\n",
    "    page = requests.get(url)\n",
    "    \n",
    "    # Parse the HTML content of the page\n",
    "    soup = BeautifulSoup(page.text, 'html.parser')\n",
    "\n",
    "    # Extract the name of the cryptocurrency (Bitcoin in this case)\n",
    "    crypto_name = soup.find('span', class_=\"sc-65e7f566-0 lsTl\").contents[0].strip()\n",
    "    \n",
    "    # Extract the price of the cryptocurrency\n",
    "    crypto_price = soup.find('span', class_=\"sc-65e7f566-0 WXGwg base-text\").text\n",
    "    \n",
    "    # Remove the dollar sign from the price for easier numerical processing\n",
    "    formatted_price = crypto_price.replace('$', '')\n",
    "\n",
    "    # Get the current timestamp to record when the data was scraped\n",
    "    current_time = datetime.now()\n",
    "    \n",
    "    # Create a dictionary to store the crypto name, price, and timestamp\n",
    "    dictionary = {\n",
    "        'Crypto Name': crypto_name,\n",
    "        'Price': formatted_price,\n",
    "        'Timestamp': current_time\n",
    "    }\n",
    "\n",
    "    # Convert the dictionary into a DataFrame for easier handling and saving\n",
    "    df = pd.DataFrame(dictionary, index=[0])\n",
    "\n",
    "    # Define the file path where the CSV will be saved\n",
    "    file_path = r'Insert Your File Path Here\\crypto scrapper.csv'\n",
    "    \n",
    "    # Check if the CSV file exists; if it does, append the data, otherwise create a new file\n",
    "    if os.path.exists(file_path):\n",
    "        df.to_csv(file_path, mode='a', header=False, index=False)\n",
    "    else:\n",
    "        df.to_csv(file_path, index=False)"
   ]
  },
  {
   "cell_type": "code",
   "execution_count": null,
   "id": "effdd2da",
   "metadata": {},
   "outputs": [],
   "source": [
    "# Continuously scrape the data every 20 seconds\n",
    "while True:\n",
    "    crypto_web_scrapper()\n",
    "    time.sleep(20)"
   ]
  },
  {
   "cell_type": "code",
   "execution_count": null,
   "id": "a0553db4",
   "metadata": {},
   "outputs": [],
   "source": []
  }
 ],
 "metadata": {
  "kernelspec": {
   "display_name": "Python 3 (ipykernel)",
   "language": "python",
   "name": "python3"
  },
  "language_info": {
   "codemirror_mode": {
    "name": "ipython",
    "version": 3
   },
   "file_extension": ".py",
   "mimetype": "text/x-python",
   "name": "python",
   "nbconvert_exporter": "python",
   "pygments_lexer": "ipython3",
   "version": "3.11.7"
  }
 },
 "nbformat": 4,
 "nbformat_minor": 5
}
